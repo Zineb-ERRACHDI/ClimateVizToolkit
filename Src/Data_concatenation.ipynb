{
  "nbformat": 4,
  "nbformat_minor": 0,
  "metadata": {
    "colab": {
      "provenance": []
    },
    "kernelspec": {
      "name": "python3",
      "display_name": "Python 3"
    },
    "language_info": {
      "name": "python"
    }
  },
  "cells": [
    {
      "cell_type": "code",
      "execution_count": null,
      "metadata": {
        "id": "16Au9G_Pu3c_"
      },
      "outputs": [],
      "source": [
        "import os\n",
        "import xarray as xr"
      ]
    },
    {
      "cell_type": "code",
      "source": [
        "# Define the directory containing the ERA5 data files\n",
        "directory_path = \"ERA5_data\"\n",
        "\n",
        "# List all files in the directory\n",
        "files = os.listdir(directory_path)\n",
        "\n",
        "# Initialize a list to hold the datasets\n",
        "datasets = []\n",
        "\n",
        "# Open each NetCDF file and append the dataset to the list\n",
        "for file in files:\n",
        "    file_path = os.path.join(directory_path, file)\n",
        "    ds = xr.open_dataset(file_path)\n",
        "    datasets.append(ds)\n",
        "\n",
        "# Combine the datasets along the 'time' dimension\n",
        "ds_era = xr.concat(datasets, dim='time')\n",
        "\n",
        "# Define the output file name\n",
        "output_file = 'ERA5_hourly.nc'\n",
        "\n",
        "# Save the combined dataset to a new NetCDF file\n",
        "ds_era.to_netcdf(output_file)"
      ],
      "metadata": {
        "id": "CAq6zgmwvJOJ"
      },
      "execution_count": null,
      "outputs": []
    }
  ]
}